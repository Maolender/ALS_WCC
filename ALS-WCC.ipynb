{
 "cells": [
  {
   "cell_type": "code",
   "execution_count": 1,
   "id": "3f255661",
   "metadata": {},
   "outputs": [],
   "source": [
    "# importing all the modules \n",
    "\n",
    "import sys\n",
    "import math\n",
    "import laspy\n",
    "import pyproj\n",
    "\n",
    "import numpy as np\n",
    "import pandas as pd\n",
    "import geopandas as gpd\n",
    "\n",
    "from datetime import datetime\n",
    "from pycrown import PyCrown\n",
    "from shapely.geometry import Polygon\n",
    "\n",
    "# Import my own functions\n",
    "from my_functions.wcc import *\n",
    "from my_functions.jucker import *"
   ]
  },
  {
   "cell_type": "code",
   "execution_count": 2,
   "id": "7121a3e3",
   "metadata": {},
   "outputs": [],
   "source": [
    "# Define the input folder where the files are stored\n",
    "input_folder = 'input'\n",
    "\n",
    "CHM_filename = 'clipped_CHM.tif'\n",
    "DTM_filename = 'clipped_DTM.tif'\n",
    "DSM_filename = 'clipped_DSM.tif'\n",
    "LAS_filename = 'clipped_poincloud.las'\n",
    "planting_types_filename = 'Planting Types.shp'\n",
    "planting_years_filename = 'Shocott Spring Area.shp'\n",
    "\n",
    "\n",
    "# Paths to the input files including DSM, DTM, CHM, and LiDAR point cloud,\n",
    "# already clipped to the study site extent.\n",
    "F_CHM = f'{input_folder}/{CHM_filename}'\n",
    "F_DTM = f'{input_folder}/{DTM_filename}'\n",
    "F_DSM = f'{input_folder}/{DSM_filename}'\n",
    "F_LAS = f'{input_folder}/{LAS_filename}'"
   ]
  },
  {
   "cell_type": "code",
   "execution_count": 3,
   "id": "c0554a07",
   "metadata": {},
   "outputs": [],
   "source": [
    "# Initialize the PyCrown class with the provided input files\n",
    "# F_CHM: Path to the Canopy Height Model (CHM) file in .tif format\n",
    "# F_DTM: Path to the Digital Terrain Model (DTM) file in .tif format\n",
    "# F_DSM: Path to the Digital Surface Model (DSM) file in .tif format\n",
    "# F_LAS: Path to the LiDAR point cloud file in .las format\n",
    "# outpath: The directory where the output results will be saved\n",
    "PC = PyCrown(F_CHM, F_DTM, F_DSM, F_LAS, outpath='result')"
   ]
  },
  {
   "cell_type": "code",
   "execution_count": 4,
   "id": "3e4f70d7",
   "metadata": {},
   "outputs": [],
   "source": [
    "# Smoothing of CHM while preserving fine details in the CHM\n",
    "# The method filter_chm applies a smoothing filter to the Canopy Height Model (CHM).\n",
    "# Parameters:\n",
    "# 1: The window size in pixels for smoothing. A value of 1 means no smoothing is applied,\n",
    "#    as each pixel is considered individually without averaging neighboring values.\n",
    "\n",
    "# ws_in_pixels=True: Specifies that the window size is given in pixels, not in some other unit.\n",
    "# circular=False: Indicates that a square window is used for filtering instead of a circular one.\n",
    "\n",
    "PC.filter_chm(1, ws_in_pixels=True, circular=False)"
   ]
  },
  {
   "cell_type": "code",
   "execution_count": 5,
   "id": "942a17e4",
   "metadata": {},
   "outputs": [],
   "source": [
    "# Tree detection in the CHM using specified parameters\n",
    "# The method tree_detection identifies tree tops in the Canopy Height Model (CHM).\n",
    "# Parameters:\n",
    "# PC.chm: The Canopy Height Model to be analyzed.\n",
    "# ws=1: A window size of 1x1 pixel, meaning each pixel is considered independently as a potential tree top.\n",
    "# hmin=1.3: The minimum height threshold for a pixel to be considered as a tree top. \n",
    "#   This has been adjusted from 16.0 to 1.3 meters to detect smaller trees.\n",
    "\n",
    "PC.tree_detection(PC.chm, ws=1, hmin=1.3)"
   ]
  },
  {
   "cell_type": "code",
   "execution_count": 6,
   "id": "75b2d341",
   "metadata": {
    "scrolled": true
   },
   "outputs": [
    {
     "name": "stdout",
     "output_type": "stream",
     "text": [
      "Tree crowns delineation: 0.003s\n"
     ]
    }
   ],
   "source": [
    "# Delineation of tree crowns using the specified algorithm and thresholds\n",
    "# The method crown_delineation is used to define the boundaries of tree crowns in the CHM.\n",
    "\n",
    "# Define parameters for crown delineation\n",
    "algorithm = 'dalponteCIRC_numba'  # Algorithm used for crown delineation\n",
    "th_tree = 1.3  # Minimum height threshold for considering a tree crown in meters\n",
    "th_seed = 0.5  # Seed threshold factor\n",
    "th_crown = 0.05  # Crown threshold factor\n",
    "max_crown = 4.0  # Maximum allowable crown radius in meters\n",
    "\n",
    "# Delineation of tree crowns using the specified algorithm and thresholds\n",
    "PC.crown_delineation(algorithm=algorithm,\n",
    "                     th_tree=th_tree,\n",
    "                     th_seed=th_seed,\n",
    "                     th_crown=th_crown,\n",
    "                     max_crown=max_crown)"
   ]
  },
  {
   "cell_type": "code",
   "execution_count": 7,
   "id": "52ef7458",
   "metadata": {
    "scrolled": true
   },
   "outputs": [
    {
     "name": "stdout",
     "output_type": "stream",
     "text": [
      "Number of trees: 6021\n",
      "Tree tops corrected: 2551\n",
      "Tree tops corrected: 42.36837734595582%\n",
      "DSM correction: 475\n",
      "COM correction: 2076\n"
     ]
    },
    {
     "data": {
      "text/plain": [
       "(475, 2076)"
      ]
     },
     "execution_count": 7,
     "metadata": {},
     "output_type": "execute_result"
    }
   ],
   "source": [
    "# Correcting tree tops after initial detection\n",
    "# The correct_tree_tops() function refines the positions of detected tree tops.\n",
    "# This process includes:\n",
    "# - Removing false positives: tree tops that were incorrectly identified due to noise or low thresholds.\n",
    "# - Adjusting the position of tree tops to more accurate locations within the tree crowns.\n",
    "# - Merging closely positioned tree tops that likely represent the same tree.\n",
    "\n",
    "# This correction step ensures that the final tree top positions are more accurate, \n",
    "# leading to better results in subsequent analyses.\n",
    "PC.correct_tree_tops()"
   ]
  },
  {
   "cell_type": "code",
   "execution_count": 8,
   "id": "6eb966d5",
   "metadata": {},
   "outputs": [],
   "source": [
    "# Calculate tree height and elevation for the detected tree tops\n",
    "PC.get_tree_height_elevation(loc='top')\n",
    "\n",
    "# Calculate tree height and elevation for the corrected tree tops\n",
    "PC.get_tree_height_elevation(loc='top_cor')"
   ]
  },
  {
   "cell_type": "code",
   "execution_count": 9,
   "id": "883a6f0f",
   "metadata": {},
   "outputs": [],
   "source": [
    "# Screen out small trees from the detected tree tops\n",
    "# hmin=0.2: Minimum height threshold for a tree is 0.2 meters.\n",
    "PC.screen_small_trees(hmin=0.2, loc='top') "
   ]
  },
  {
   "cell_type": "code",
   "execution_count": 10,
   "id": "976aa5d6",
   "metadata": {},
   "outputs": [
    {
     "name": "stdout",
     "output_type": "stream",
     "text": [
      "Converting LAS point cloud to shapely points\n",
      "Converting raster crowns to shapely polygons\n",
      "Attach LiDAR points to corresponding crowns\n",
      "Create convex hull around first return points\n",
      "Classifying point cloud\n"
     ]
    }
   ],
   "source": [
    "# Convert detected tree crowns to polygon shapes using a raster-based approach\n",
    "PC.crowns_to_polys_raster()\n",
    "\n",
    "# Convert detected tree crowns to smoothed polygon shapes\n",
    "# and optionally store the corresponding LiDAR points for each crown\n",
    "PC.crowns_to_polys_smooth(store_las=True)"
   ]
  },
  {
   "cell_type": "code",
   "execution_count": 11,
   "id": "79320323",
   "metadata": {},
   "outputs": [],
   "source": [
    "# Perform quality control on the detected and processed tree crowns\n",
    "PC.quality_control()"
   ]
  },
  {
   "cell_type": "code",
   "execution_count": 12,
   "id": "55de4634",
   "metadata": {},
   "outputs": [
    {
     "name": "stdout",
     "output_type": "stream",
     "text": [
      "Number of trees detected: 6021\n"
     ]
    }
   ],
   "source": [
    "print(f\"Number of trees detected: {len(PC.trees)}\")"
   ]
  },
  {
   "cell_type": "code",
   "execution_count": 13,
   "id": "3c290531",
   "metadata": {},
   "outputs": [
    {
     "name": "stdout",
     "output_type": "stream",
     "text": [
      "Export skipped\n"
     ]
    }
   ],
   "source": [
    "export_data = False  # or True, depending on your condition\n",
    "\n",
    "if export_data:\n",
    "    # Export the Canopy Height Model (CHM) as a raster file\n",
    "    PC.export_raster(PC.chm, PC.outpath / 'chm.tif', 'CHM')\n",
    "\n",
    "    # Export the locations of the initially detected tree tops\n",
    "    PC.export_tree_locations(loc='top')\n",
    "\n",
    "    # Export the locations of the corrected tree tops\n",
    "    PC.export_tree_locations(loc='top_cor')\n",
    "\n",
    "    # Export the tree crowns as raster-based polygons\n",
    "    PC.export_tree_crowns(crowntype='crown_poly_raster')\n",
    "\n",
    "    # Export the tree crowns as smoothed polygons\n",
    "    PC.export_tree_crowns(crowntype='crown_poly_smooth')\n",
    "else:\n",
    "    print(\"Export skipped\")"
   ]
  },
  {
   "cell_type": "code",
   "execution_count": 14,
   "id": "fea6999a",
   "metadata": {},
   "outputs": [],
   "source": [
    "# AIM: Create a dataset with the identified trees, their heights and location (latitude and longitude)\n",
    "\n",
    "# Convert your DataFrame to a GeoDataFrame using the 'top_cor' column for geometry\n",
    "# 'top_cor' is assumed to be a column containing geometries (e.g., points representing tree tops)\n",
    "trees_gdf = gpd.GeoDataFrame(PC.trees, geometry='top_cor')\n",
    "\n",
    "# Setting the Coordinate Reference System (CRS) for the GeoDataFrame\n",
    "# EPSG:27700 corresponds to OSGB36 / British National Grid, which is commonly used in the UK\n",
    "epsg_code = \"EPSG:27700\"\n",
    "trees_gdf = trees_gdf.set_crs(epsg_code)\n",
    "\n",
    "# Function to calculate the diameter of a tree crown polygon\n",
    "def polygon_diameter(polygon):\n",
    "    if isinstance(polygon, Polygon):\n",
    "        # Extract the bounding box of the polygon (minx, miny, maxx, maxy)\n",
    "        minx, miny, maxx, maxy = polygon.bounds\n",
    "        # Calculate the diameter as the maximum of the width or height of the bounding box\n",
    "        diameter = max(maxx - minx, maxy - miny)\n",
    "        return diameter\n",
    "    else:\n",
    "        return None\n",
    "\n",
    "# Calculate the diameter for each tree crown polygon\n",
    "# 'crown_poly_raster' is assumed to be a column containing polygon geometries for tree crowns\n",
    "trees_gdf['diameter'] = trees_gdf['crown_poly_raster'].apply(polygon_diameter)\n",
    "\n",
    "\n",
    "# Create a DataFrame with tree number, height, and calculated diameter\n",
    "trees_gdf['tree_number'] = trees_gdf.index  # Assign a unique tree number based on the index\n",
    "tree_database = trees_gdf[['tree_number', 'top_height', 'diameter']].copy()\n",
    "\n",
    "# Add the geometry column back to the new DataFrame to make it a GeoDataFrame\n",
    "tree_database = gpd.GeoDataFrame(tree_database, geometry=trees_gdf.geometry)"
   ]
  },
  {
   "cell_type": "code",
   "execution_count": 15,
   "id": "0d58bc6a",
   "metadata": {},
   "outputs": [],
   "source": [
    "# AIM: add a shapefile to identify trees within particular areas and then planting years#\n",
    "# This adds to the DataFrame the type and the year to each tree\n",
    "\n",
    "# Loading the shapefile of the planting areas\n",
    "planting_types = f'{input_folder}/{planting_types_filename}'\n",
    "planting_areas_gdf = gpd.read_file(planting_types)\n",
    "\n",
    "# Perform a spatial join to keep only trees within the planting areas\n",
    "# 'how=\"inner\"' keeps only the rows where the spatial join condition ('within') is true\n",
    "trees_within_planting_areas = gpd.sjoin(tree_database, planting_areas_gdf, how='inner', op='within')\n",
    "\n",
    "# Remove the 'index_right' and 'id' columns if present\n",
    "# This cleans up the GeoDataFrame by removing unnecessary columns resulting from the join\n",
    "columns_to_drop = ['index_right', 'id']\n",
    "trees_within_planting_areas = trees_within_planting_areas.drop(columns=[col for col in columns_to_drop if col in trees_within_planting_areas.columns])\n",
    "\n",
    "# planting years areas \n",
    "planting_years = f'{input_folder}/{planting_years_filename}'\n",
    "planting_years_gdf = gpd.read_file(planting_years)\n",
    "\n",
    "# Perform a spatial join to add attributes from the planting years shapefile\n",
    "# Again, 'how=\"inner\"' ensures that only trees within the specified areas are kept\n",
    "trees_within_both_areas = gpd.sjoin(trees_within_planting_areas, planting_years_gdf, how='inner', op='within')\n",
    "\n",
    "# Clean up by removing any redundant columns from the second spatial join\n",
    "columns_to_drop_second = ['index_right']  # Adjust based on actual column names resulting from the second join\n",
    "trees_within_both_areas = trees_within_both_areas.drop(columns=[col for col in columns_to_drop_second if col in trees_within_both_areas.columns])\n",
    "\n",
    "# Rename columns to provide meaningful names\n",
    "trees_within_both_areas = trees_within_both_areas.rename(columns={'id': 'Year'})"
   ]
  },
  {
   "cell_type": "code",
   "execution_count": 16,
   "id": "743b9dbb",
   "metadata": {
    "scrolled": true
   },
   "outputs": [
    {
     "name": "stdout",
     "output_type": "stream",
     "text": [
      "    tree_number  top_height  diameter                       geometry  \\\n",
      "12           12    1.424002       1.0  POINT (507531.000 245983.000)   \n",
      "16           16    1.940001       1.0  POINT (507489.000 245960.000)   \n",
      "18           18    2.199003       1.0  POINT (507581.000 245946.000)   \n",
      "19           19    1.453003       1.0  POINT (507560.000 245938.000)   \n",
      "20           20    2.310001       1.0  POINT (507611.000 245938.000)   \n",
      "21           21    1.770002       1.0  POINT (507499.000 245930.000)   \n",
      "22           22    1.814003       1.0  POINT (507480.000 245914.000)   \n",
      "23           23    1.422001       1.0  POINT (507492.000 245911.000)   \n",
      "24           24    1.467001       1.0  POINT (507543.000 245908.000)   \n",
      "25           25    1.815001       1.0  POINT (507496.000 245890.000)   \n",
      "\n",
      "          Type  Year  \n",
      "12  Shrub-rich     3  \n",
      "16  Shrub-rich     3  \n",
      "18  Shrub-rich     3  \n",
      "19  Shrub-rich     3  \n",
      "20  Shrub-rich     3  \n",
      "21  Shrub-rich     3  \n",
      "22  Shrub-rich     3  \n",
      "23  Shrub-rich     3  \n",
      "24  Shrub-rich     3  \n",
      "25  Shrub-rich     3  \n"
     ]
    }
   ],
   "source": [
    "#len(trees_within_both_areas)\n",
    "print(trees_within_both_areas.head(10))"
   ]
  },
  {
   "cell_type": "code",
   "execution_count": 17,
   "id": "03c48f5b",
   "metadata": {},
   "outputs": [],
   "source": [
    "# Create a CSV file for further analysis\n",
    "trees_within_both_areas.to_csv('trees_within_both_areas.csv', index=False)"
   ]
  },
  {
   "cell_type": "code",
   "execution_count": 18,
   "id": "c811d1d3",
   "metadata": {},
   "outputs": [],
   "source": [
    "# Reading the CSV file into a DataFrame\n",
    "df = trees_within_both_areas"
   ]
  },
  {
   "cell_type": "code",
   "execution_count": 19,
   "id": "417adda9",
   "metadata": {},
   "outputs": [],
   "source": [
    "# AIM: add DBH to the data set of each tree\n",
    "# This cell is based on Jucker et al. 2017 (\"Allometric equations for integrating remote sensing imagery into forest monitoring programmes\")\n",
    "\n",
    "# Parameters for DBH calculation\n",
    "exp_factor_d = np.exp(0.056**2 / 2)\n",
    "\n",
    "# Calculate DBH (Diameter at Breast Height)\n",
    "# Unit for DBH is cm \n",
    "df['DBH'] = 0.557 * (df['top_height'] * df['diameter'])**0.809 * exp_factor_d"
   ]
  },
  {
   "cell_type": "markdown",
   "id": "acad4240",
   "metadata": {},
   "source": [
    "# WCC FRAMEWORK #"
   ]
  },
  {
   "cell_type": "code",
   "execution_count": 20,
   "id": "ddf5f1f8",
   "metadata": {},
   "outputs": [
    {
     "name": "stdout",
     "output_type": "stream",
     "text": [
      "Tree Statistics:\n",
      "Total number of trees: 4\n",
      "Total number of saplings: 2145\n",
      "Total number of large trees: 0\n",
      "Mean Tree Height for Trees: 5.86 meters\n",
      "Mean DBH for Trees: 7.48 cm\n",
      "Mean Tree Height for Saplings: 3.15 meters\n",
      "Mean DBH for Saplings: 2.46 cm\n",
      "No large trees identified.\n",
      "Quadratic Mean DBH for Trees: 7.5 cm\n",
      "Mean Basal Area for Trees: 0.0044 m^2\n",
      "\n",
      "Total AGB for all species: 0.0300 oven-dry tonnes\n",
      "Total Root Biomass for all species: 0.0050 oven-dry tonnes\n",
      "Ratio of Total Root Biomass to Total AGB: 0.1667\n"
     ]
    }
   ],
   "source": [
    "# Initialize total aggregates\n",
    "total_agb_all_species = 0\n",
    "total_root_biomass_all_species = 0\n",
    "\n",
    "# Define species percentages and planting mix\n",
    "species_percentages = {\n",
    "    'oak': 0.40,  # 40% Oak\n",
    "    'Scots pine': 0.30,  # 30% Scots Pine\n",
    "    'European larch': 0.30  # 30% European Larch\n",
    "}\n",
    "planting_mix = 'Mixed Wood'\n",
    "year = 2\n",
    "\n",
    "\n",
    "\n",
    "# Assuming `df` is your DataFrame containing the tree data\n",
    "tree_stats = tree_statistics(df, species_percentages, planting_mix, year)\n",
    "\n",
    "print_tree_statistics(tree_stats)\n",
    "\n",
    "# Iterate over all species in your dataset\n",
    "for species in tree_stats['species_distribution'].keys():\n",
    "    # Get the volume statistics for the species\n",
    "    volume_stats = calculate_tariff_numbers_and_volume(tree_stats, species)\n",
    "\n",
    "    # Calculate the biomass for the species\n",
    "    biomass_stats = calculate_biomass(tree_stats, species, volume_stats)\n",
    "\n",
    "    # Accumulate the total AGB and root biomass for all species\n",
    "    total_agb_all_species += biomass_stats['total_AGB']\n",
    "    total_root_biomass_all_species += biomass_stats['total_root_biomass']\n",
    "\n",
    "# Compute the ratio of total root biomass to total AGB\n",
    "root_to_agb_ratio = total_root_biomass_all_species / total_agb_all_species if total_agb_all_species != 0 else None\n",
    "\n",
    "# Print the results\n",
    "print(f\"Total AGB for all species: {total_agb_all_species:.4f} oven-dry tonnes\")\n",
    "print(f\"Total Root Biomass for all species: {total_root_biomass_all_species:.4f} oven-dry tonnes\")\n",
    "if root_to_agb_ratio is not None:\n",
    "    print(f\"Ratio of Total Root Biomass to Total AGB: {root_to_agb_ratio:.4f}\")\n",
    "else:\n",
    "    print(\"Total AGB is zero, cannot compute ratio.\")"
   ]
  },
  {
   "cell_type": "code",
   "execution_count": 22,
   "id": "3519f4b8",
   "metadata": {},
   "outputs": [
    {
     "name": "stdout",
     "output_type": "stream",
     "text": [
      "Species: Oak\n",
      "Number of Trees: 2\n",
      "Number of Saplings: 859\n",
      "Tariff Number: 17\n",
      "Mean Tree Volume: 0.0080 m^3\n",
      "Total Stem Volume: 0.0209 m^3\n",
      "Total Stem Biomass: 0.0117 oven-dry tonnes\n",
      "Total Crown Biomass: 0.0049 oven-dry tonnes\n",
      "Total Root Biomass: 0.0000 oven-dry tonnes\n",
      "Total Above-Ground Biomass (AGB): 0.0166 oven-dry tonnes\n",
      "Total Biomass: 0.0166 oven-dry tonnes\n",
      "Total Carbon Content: 0.0083 tonnes C\n",
      "Total CO2 Content for Trees: 0.0304 tonnes CO2\n",
      "Total CO2 Content for Saplings: 0.0000 tonnes CO2\n",
      "-------------------------------------------------- \n",
      "\n",
      "Species: Scots pine\n",
      "Number of Trees: 1\n",
      "Number of Saplings: 643\n",
      "Tariff Number: 15\n",
      "Mean Tree Volume: 0.0077 m^3\n",
      "Total Stem Volume: 0.0100 m^3\n",
      "Total Stem Biomass: 0.0042 oven-dry tonnes\n",
      "Total Crown Biomass: 0.0024 oven-dry tonnes\n",
      "Total Root Biomass: 0.0024 oven-dry tonnes\n",
      "Total Above-Ground Biomass (AGB): 0.0065 oven-dry tonnes\n",
      "Total Biomass: 0.0089 oven-dry tonnes\n",
      "Total Carbon Content: 0.4000 tonnes C\n",
      "Total CO2 Content for Trees: 0.0163 tonnes CO2\n",
      "Total CO2 Content for Saplings: 1.4504 tonnes CO2\n",
      "-------------------------------------------------- \n",
      "\n",
      "Species: European larch\n",
      "Number of Trees: 1\n",
      "Number of Saplings: 643\n",
      "Tariff Number: 13\n",
      "Mean Tree Volume: 0.0073 m^3\n",
      "Total Stem Volume: 0.0095 m^3\n",
      "Total Stem Biomass: 0.0043 oven-dry tonnes\n",
      "Total Crown Biomass: 0.0026 oven-dry tonnes\n",
      "Total Root Biomass: 0.0027 oven-dry tonnes\n",
      "Total Above-Ground Biomass (AGB): 0.0069 oven-dry tonnes\n",
      "Total Biomass: 0.0095 oven-dry tonnes\n",
      "Total Carbon Content: 0.4003 tonnes C\n",
      "Total CO2 Content for Trees: 0.0175 tonnes CO2\n",
      "Total CO2 Content for Saplings: 1.4504 tonnes CO2\n",
      "-------------------------------------------------- \n",
      "\n",
      "Overall Totals:\n",
      "Total Biomass for All Species: 0.0350 oven-dry tonnes\n",
      "Total Carbon Content for All Species: 0.8087 tonnes C\n",
      "Total CO2 Content for All Species: 2.9651 tonnes CO2\n",
      "Total CO2 Content for Trees (All Species): 0.0642 tonnes CO2\n",
      "Total CO2 Content for Saplings (All Species): 2.9009 tonnes CO2\n"
     ]
    }
   ],
   "source": [
    "# Calculate tree biomass and convert to carbon and CO2 for each species\n",
    "total_aggregates = calculate_and_print_species_biomass_and_carbon(tree_stats, species_percentages)\n",
    "# Print overall totals\n",
    "\n",
    "print_overall_totals(\n",
    "    total_aggregates['total_biomass_all_species'], \n",
    "    total_aggregates['total_carbon_all_species'], \n",
    "    total_aggregates['total_co2_all_species'], \n",
    "    total_aggregates['total_co2_trees_all_species'], \n",
    "    total_aggregates['total_co2_saplings_all_species']\n",
    ")"
   ]
  },
  {
   "cell_type": "markdown",
   "id": "8f2b5247",
   "metadata": {},
   "source": [
    "#  JUCKER ET AL. 2017 \n",
    "\n",
    "### AGB- using crown diameter and height"
   ]
  },
  {
   "cell_type": "code",
   "execution_count": 23,
   "id": "309d98a3",
   "metadata": {},
   "outputs": [],
   "source": [
    "# Parameters for ABG \n",
    "exp_factor_agb = np.exp(0.204**2 / 2)\n",
    "\n",
    "# As there is no option to classify the type of species of signular tree, it will be assumed that they could be equally (50% chance) either angiosperms and gymnosperms and then a waighted average will be applied  \n",
    "# Calculate AGB for angiosperms and gymnosperms\n",
    "# Unit for AGB is kg.\n",
    "df['AGB_angiosperm'] = 0.016 * (df['top_height'] * df['diameter'])**2.013 * exp_factor_agb\n",
    "df['AGB_gymnosperm'] = 0.109 * (df['top_height'] * df['diameter'])**1.790 * exp_factor_agb\n"
   ]
  },
  {
   "cell_type": "code",
   "execution_count": 24,
   "id": "fa8704b7",
   "metadata": {},
   "outputs": [],
   "source": [
    "species_mix_proportions = {\n",
    "    \"Mixed Wood\": (0.4, 0.6),  # 40% Angiosperms, 60% Gymnosperms\n",
    "    \"Native Bro\": (1.0, 0.0),  # 100% Angiosperms\n",
    "    \"Native Shr\": (1.0, 0.0),  # 100% Angiosperms\n",
    "    \"Native Tim\": (1.0, 0.0),  # 100% Angiosperms\n",
    "    \"Shrub-rich\": (1.0, 0.0)   # 100% Angiosperms\n",
    "}\n",
    "\n",
    "ratio_bgb_to_agb = root_to_agb_ratio  # Given ratio of BGB to AGB\n",
    "\n",
    "# Calculate the biomass summary\n",
    "biomass_summary = calculate_biomass_summary(df, ratio_bgb_to_agb, species_mix_proportions)"
   ]
  },
  {
   "cell_type": "code",
   "execution_count": 25,
   "id": "601613d9",
   "metadata": {},
   "outputs": [
    {
     "name": "stdout",
     "output_type": "stream",
     "text": [
      "Biomass and Carbon Content Summary by Planting Type and Year:\n",
      "          Type  Year  Total_AGB  Mean_AGB  Number_of_Trees  Total_BGB  \\\n",
      "0   Mixed Wood     1  29.933875  0.011408             2624   4.990948   \n",
      "1   Mixed Wood     2   5.848508  0.002722             2149   0.975136   \n",
      "2   Native Bro     1   0.173455  0.000899              193   0.028920   \n",
      "3   Native Bro     2   0.025474  0.000349               73   0.004247   \n",
      "4   Native Bro     3   0.000115  0.000038                3   0.000019   \n",
      "5   Native Shr     1   0.002540  0.000254               10   0.000423   \n",
      "6   Native Shr     2   0.005806  0.001935                3   0.000968   \n",
      "7   Native Shr     3   0.000378  0.000189                2   0.000063   \n",
      "8   Native Tim     1   0.041157  0.000490               84   0.006862   \n",
      "9   Native Tim     2   0.027150  0.000272              100   0.004527   \n",
      "10  Shrub-rich     1   0.023496  0.000691               34   0.003918   \n",
      "11  Shrub-rich     2   0.000158  0.000079                2   0.000026   \n",
      "12  Shrub-rich     3   0.000810  0.000054               15   0.000135   \n",
      "\n",
      "    Carbon_Content  CO2_Content  \n",
      "0        17.462411    64.028842  \n",
      "1         3.411822    12.510013  \n",
      "2         0.101188     0.371021  \n",
      "3         0.014861     0.054490  \n",
      "4         0.000067     0.000247  \n",
      "5         0.001482     0.005433  \n",
      "6         0.003387     0.012420  \n",
      "7         0.000220     0.000808  \n",
      "8         0.024009     0.088035  \n",
      "9         0.015838     0.058074  \n",
      "10        0.013707     0.050259  \n",
      "11        0.000092     0.000338  \n",
      "12        0.000473     0.001733  \n"
     ]
    }
   ],
   "source": [
    "# Display the summary\n",
    "print(\"Biomass and Carbon Content Summary by Planting Type and Year:\")\n",
    "print(biomass_summary)"
   ]
  }
 ],
 "metadata": {
  "kernelspec": {
   "display_name": "Python 3",
   "language": "python",
   "name": "python3"
  },
  "language_info": {
   "codemirror_mode": {
    "name": "ipython",
    "version": 3
   },
   "file_extension": ".py",
   "mimetype": "text/x-python",
   "name": "python",
   "nbconvert_exporter": "python",
   "pygments_lexer": "ipython3",
   "version": "3.6.11"
  }
 },
 "nbformat": 4,
 "nbformat_minor": 5
}
